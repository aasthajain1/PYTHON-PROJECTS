{
 "cells": [
  {
   "cell_type": "code",
   "execution_count": 32,
   "id": "5426e6e5-edaa-4c9b-80a9-baeeda47f6fa",
   "metadata": {},
   "outputs": [
    {
     "data": {
      "text/plain": [
       "Text(653.04, 4.571000000000001, 'Liberia')"
      ]
     },
     "execution_count": 32,
     "metadata": {},
     "output_type": "execute_result"
    },
    {
     "data": {
      "image/png": "[encoded data removed]",
      "text/plain": [
       "<Figure size 432x288 with 1 Axes>"
      ]
     },
     "metadata": {
      "needs_background": "light"
     },
     "output_type": "display_data"
    }
   ],
   "source": [
    "import pandas as pd\n",
    "\n",
    "data = pd.read_csv(\"em-9EhjTEemU7w7-EFnPcg_7aa34fc018d311e980c2cb6467517117_happyscore_income.csv\")\n",
    "data.sort_values('avg_income', inplace = True)\n",
    "\n",
    "poorest_countries = data[data['avg_income'] < 1000 ]\n",
    "\n",
    "\n",
    "import matplotlib.pyplot as plt\n",
    "\n",
    "plt.scatter(poorest_countries['avg_income'], poorest_countries['happyScore'])\n",
    "plt.xlabel('income')\n",
    "plt.ylabel('HappyScore')\n",
    "\n",
    "plt.text(poorest_countries.iloc[0]['avg_income'],\n",
    "         poorest_countries.iloc[0]['happyScore'],\n",
    "         poorest_countries.iloc[0]['country'])  \n",
    "\n",
    "plt.text(poorest_countries.iloc[1]['avg_income'],\n",
    "         poorest_countries.iloc[1]['happyScore'],\n",
    "         poorest_countries.iloc[1]['country'])\n",
    "\n",
    "plt.text(poorest_countries.iloc[2]['avg_income'],\n",
    "         poorest_countries.iloc[2]['happyScore'],\n",
    "         poorest_countries.iloc[2]['country'])                                    \n",
    "                                    "
   ]
  },
  {
   "cell_type": "code",
   "execution_count": null,
   "id": "43e0c8a7-554f-40eb-8fe7-cf86547f5f1a",
   "metadata": {},
   "outputs": [],
   "source": []
  }
 ],
 "metadata": {
  "kernelspec": {
   "display_name": "Python 3 (ipykernel)",
   "language": "python",
   "name": "python3"
  },
  "language_info": {
   "codemirror_mode": {
    "name": "ipython",
    "version": 3
   },
   "file_extension": ".py",
   "mimetype": "text/x-python",
   "name": "python",
   "nbconvert_exporter": "python",
   "pygments_lexer": "ipython3",
   "version": "3.9.7"
  }
 },
 "nbformat": 4,
 "nbformat_minor": 5
}
